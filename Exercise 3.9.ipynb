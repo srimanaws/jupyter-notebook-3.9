{
 "cells": [
  {
   "cell_type": "code",
   "execution_count": 2,
   "id": "f7739217-6eb7-48bb-820a-e52a7192b189",
   "metadata": {},
   "outputs": [
    {
     "name": "stdin",
     "output_type": "stream",
     "text": [
      "Please enter a five-digit integer:  94878\n"
     ]
    },
    {
     "name": "stdout",
     "output_type": "stream",
     "text": [
      "9   4   8   7   8   \n"
     ]
    }
   ],
   "source": [
    "# Exercise 3.9\n",
    "# Ask the user to enter a five-digit number\n",
    "number = int(input('Please enter a five-digit integer: '))\n",
    "\n",
    "# We'll go through each digit from left to right\n",
    "# Start from the most significant digit to the least significant\n",
    "for i in range(4, -1, -1):\n",
    "    # Calculate the divisor for the current position (e.g., 10000, 1000, etc.)\n",
    "    divisor = 10 ** i\n",
    "    \n",
    "    # Find the digit at the current position\n",
    "    digit = number // divisor\n",
    "    \n",
    "    # Print the digit followed by spaces for readability\n",
    "    print(digit, end='   ')\n",
    "    \n",
    "    # Remove the digit we just processed\n",
    "    number = number % divisor\n",
    "\n",
    "# Print a newline at the end to make the output look tidy\n",
    "print()\n"
   ]
  },
  {
   "cell_type": "code",
   "execution_count": null,
   "id": "4be0b83c-2aab-4078-9797-10a9d5587c8b",
   "metadata": {},
   "outputs": [],
   "source": []
  }
 ],
 "metadata": {
  "kernelspec": {
   "display_name": "Python 3 (ipykernel)",
   "language": "python",
   "name": "python3"
  },
  "language_info": {
   "codemirror_mode": {
    "name": "ipython",
    "version": 3
   },
   "file_extension": ".py",
   "mimetype": "text/x-python",
   "name": "python",
   "nbconvert_exporter": "python",
   "pygments_lexer": "ipython3",
   "version": "3.12.4"
  }
 },
 "nbformat": 4,
 "nbformat_minor": 5
}
